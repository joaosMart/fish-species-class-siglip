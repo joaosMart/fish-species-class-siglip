{
  "nbformat": 4,
  "nbformat_minor": 0,
  "metadata": {
    "colab": {
      "provenance": [],
      "toc_visible": true,
      "mount_file_id": "1hl0AoibWvZ2M4YnVL8IxP8yTxbxe9jKJ",
      "authorship_tag": "ABX9TyPjpYf1P/ltJLSDlb5i8/5J",
      "include_colab_link": true
    },
    "kernelspec": {
      "name": "python3",
      "display_name": "Python 3"
    },
    "language_info": {
      "name": "python"
    }
  },
  "cells": [
    {
      "cell_type": "markdown",
      "metadata": {
        "id": "view-in-github",
        "colab_type": "text"
      },
      "source": [
        "<a href=\"https://colab.research.google.com/github/joaosMart/fish-species-class-siglip/blob/update-readme-comprehensive/Code/extra-analysis/Evaluation_metrics.ipynb\" target=\"_parent\"><img src=\"https://colab.research.google.com/assets/colab-badge.svg\" alt=\"Open In Colab\"/></a>"
      ]
    },
    {
      "cell_type": "markdown",
      "source": [
        "# Temporal Voting"
      ],
      "metadata": {
        "id": "VekMZrCutgPU"
      }
    },
    {
      "cell_type": "code",
      "execution_count": null,
      "metadata": {
        "colab": {
          "base_uri": "https://localhost:8080/"
        },
        "id": "TgGh2oCeqME5",
        "outputId": "441aa10c-9dce-4acf-8025-e4b5b385f6d7"
      },
      "outputs": [
        {
          "output_type": "stream",
          "name": "stdout",
          "text": [
            "     Metric           SVM Logistic Regression\n",
            "   Accuracy 0.973 ± 0.006       0.970 ± 0.005\n",
            "Weighted F1 0.973 ± 0.006       0.970 ± 0.005\n",
            "   Macro F1 0.966 ± 0.009       0.962 ± 0.008\n",
            " Bleikja F1 0.947 ± 0.019       0.940 ± 0.017\n",
            "     Lax F1 0.968 ± 0.007       0.965 ± 0.006\n",
            "  Urriði F1 0.982 ± 0.004       0.980 ± 0.004\n"
          ]
        }
      ],
      "source": [
        "import json\n",
        "import numpy as np\n",
        "import pandas as pd\n",
        "\n",
        "def calculate_metrics(data):\n",
        "    metrics = {}\n",
        "    for model in ['SVM', 'LogisticRegression']:\n",
        "        model_data = data[model]\n",
        "        metrics[model] = {\n",
        "            'Accuracy': [v['accuracy'] for k, v in model_data.items()\n",
        "                                if k != 'average_metrics'],\n",
        "            'Weighted F1': [v['weighted_f1'] for k, v in model_data.items()\n",
        "                          if k != 'average_metrics'],\n",
        "            'Macro F1': [v['macro_f1'] for k, v in model_data.items()\n",
        "                        if k != 'average_metrics'],\n",
        "            'Bleikja F1': [v['Bleikja_f1'] for k, v in model_data.items()\n",
        "                          if k != 'average_metrics'],\n",
        "            'Lax F1': [v['Lax_f1'] for k, v in model_data.items()\n",
        "                      if k != 'average_metrics'],\n",
        "            'Urriði F1': [v['Urriði_f1'] for k, v in model_data.items()\n",
        "                         if k != 'average_metrics']\n",
        "        }\n",
        "\n",
        "    results = []\n",
        "    for metric in ['Accuracy', 'Weighted F1', 'Macro F1', 'Bleikja F1', 'Lax F1', 'Urriði F1']:\n",
        "        row = {\n",
        "            'Metric': metric,\n",
        "            'SVM': f\"{np.mean(metrics['SVM'][metric]):.3f} ± {np.std(metrics['SVM'][metric]):.3f}\",\n",
        "            'Logistic Regression': f\"{np.mean(metrics['LogisticRegression'][metric]):.3f} ± {np.std(metrics['LogisticRegression'][metric]):.3f}\"\n",
        "        }\n",
        "        results.append(row)\n",
        "\n",
        "    return pd.DataFrame(results)\n",
        "\n",
        "# Read the file\n",
        "with open('/content/drive/MyDrive/Summer 2023 - fish ML/Paper - Fish Species Classification/Temporal Voting/temporal_voting_evaluation_20250206_183930/temporal_voting_results.json', 'r') as file:\n",
        "    data = json.load(file)\n",
        "\n",
        "# Calculate and display results\n",
        "print(calculate_metrics(data).to_string(index=False))"
      ]
    },
    {
      "cell_type": "code",
      "source": [
        "!unzip temporal_voting_evaluation_20241212_214334.zip"
      ],
      "metadata": {
        "colab": {
          "base_uri": "https://localhost:8080/"
        },
        "id": "zrF2ordfIOqX",
        "outputId": "3e4ce680-15d5-493b-8ff5-e12e5c35e80f"
      },
      "execution_count": null,
      "outputs": [
        {
          "output_type": "stream",
          "name": "stdout",
          "text": [
            "Archive:  temporal_voting_evaluation_20241212_214334.zip\n",
            "   creating: temporal_voting_evaluation_20241212_214334/\n",
            "  inflating: temporal_voting_evaluation_20241212_214334/learning_curves.json  \n",
            "  inflating: temporal_voting_evaluation_20241212_214334/learning_curves_data.json  \n",
            "  inflating: temporal_voting_evaluation_20241212_214334/temporal_voting_results.json  \n",
            "  inflating: temporal_voting_evaluation_20241212_214334/averaged_confusion_matrices.png  \n",
            "  inflating: temporal_voting_evaluation_20241212_214334/learning_curves.png  \n",
            "  inflating: temporal_voting_evaluation_20241212_214334/temporal_voting.log  \n"
          ]
        }
      ]
    },
    {
      "cell_type": "markdown",
      "source": [
        "# Temporal Pooling and Single Frame"
      ],
      "metadata": {
        "id": "tr_er7iAqMxd"
      }
    },
    {
      "cell_type": "markdown",
      "source": [
        "> Average FEatures:"
      ],
      "metadata": {
        "id": "vyxFXBiPvdiy"
      }
    },
    {
      "cell_type": "code",
      "source": [
        "import json\n",
        "import numpy as np\n",
        "import pandas as pd\n",
        "\n",
        "def calculate_metrics_from_files(svm_file, lr_file):\n",
        "    # Read files\n",
        "    with open(svm_file, 'r') as f:\n",
        "        svm_data = json.load(f)\n",
        "    with open(lr_file, 'r') as f:\n",
        "        lr_data = json.load(f)\n",
        "\n",
        "    metrics = ['weighted_f1', 'macro_f1', 'accuracy', 'Bleikja_f1', 'Lax_f1', 'Urriði_f1']\n",
        "    results = []\n",
        "\n",
        "    for metric in metrics:\n",
        "        svm_train = [v['train_metrics'][metric] for k, v in svm_data.items() if k.isdigit()]\n",
        "        svm_test = [v['test_metrics'][metric] for k, v in svm_data.items() if k.isdigit()]\n",
        "        lr_train = [v['train_metrics'][metric] for k, v in lr_data.items() if k.isdigit()]\n",
        "        lr_test = [v['test_metrics'][metric] for k, v in lr_data.items() if k.isdigit()]\n",
        "\n",
        "        row = {\n",
        "            'Metric': metric,\n",
        "            'SVM Train': f\"{np.mean(svm_train):.3f} ± {np.std(svm_train):.3f}\",\n",
        "            'SVM Test': f\"{np.mean(svm_test):.3f} ± {np.std(svm_test):.3f}\",\n",
        "            'LR Train': f\"{np.mean(lr_train):.3f} ± {np.std(lr_train):.3f}\",\n",
        "            'LR Test': f\"{np.mean(lr_test):.3f} ± {np.std(lr_test):.3f}\"\n",
        "        }\n",
        "        results.append(row)\n",
        "\n",
        "    return pd.DataFrame(results)\n",
        "\n",
        "# Calculate and display results\n",
        "df = calculate_metrics_from_files('/content/drive/MyDrive/Summer 2023 - fish ML/Paper - Fish Species Classification/Temporal Pooling/model_evaluation_20250206_181438/SVM_evaluation.json',\n",
        "                                  '/content/drive/MyDrive/Summer 2023 - fish ML/Paper - Fish Species Classification/Temporal Pooling/model_evaluation_20250206_181438/LogisticRegression_evaluation.json')\n",
        "print(df.to_string(index=False))"
      ],
      "metadata": {
        "colab": {
          "base_uri": "https://localhost:8080/"
        },
        "id": "lvLAy5uPtmff",
        "outputId": "599a6ca1-f2af-4702-8f71-1834dd3c07c5"
      },
      "execution_count": null,
      "outputs": [
        {
          "output_type": "stream",
          "name": "stdout",
          "text": [
            "     Metric     SVM Train      SVM Test      LR Train       LR Test\n",
            "weighted_f1 0.990 ± 0.002 0.975 ± 0.003 0.984 ± 0.004 0.970 ± 0.005\n",
            "   macro_f1 0.988 ± 0.002 0.968 ± 0.005 0.982 ± 0.004 0.962 ± 0.007\n",
            "   accuracy 0.990 ± 0.002 0.975 ± 0.003 0.984 ± 0.004 0.970 ± 0.005\n",
            " Bleikja_f1 0.986 ± 0.003 0.951 ± 0.011 0.975 ± 0.006 0.941 ± 0.012\n",
            "     Lax_f1 0.988 ± 0.003 0.970 ± 0.005 0.981 ± 0.005 0.965 ± 0.008\n",
            "  Urriði_f1 0.992 ± 0.001 0.983 ± 0.002 0.989 ± 0.002 0.979 ± 0.003\n"
          ]
        }
      ]
    },
    {
      "cell_type": "code",
      "source": [
        "!unzip model_evaluation_20241212_194724.zip"
      ],
      "metadata": {
        "colab": {
          "base_uri": "https://localhost:8080/"
        },
        "id": "5Lt-PkzvJMy_",
        "outputId": "23020707-2eda-451f-afcc-3dc007982f67"
      },
      "execution_count": null,
      "outputs": [
        {
          "output_type": "stream",
          "name": "stdout",
          "text": [
            "Archive:  model_evaluation_20241212_194724.zip\n",
            "   creating: model_evaluation_20241212_194724/\n",
            "  inflating: model_evaluation_20241212_194724/learning_curves_mean_ensemble.png  \n",
            "  inflating: model_evaluation_20241212_194724/learning_curves_data.json  \n",
            "  inflating: model_evaluation_20241212_194724/LogisticRegression_evaluation.json  \n",
            "  inflating: model_evaluation_20241212_194724/SVM_evaluation.json  \n",
            "  inflating: model_evaluation_20241212_194724/averaged_confusion_matrices.png  \n",
            "  inflating: model_evaluation_20241212_194724/evaluation.log  \n"
          ]
        }
      ]
    },
    {
      "cell_type": "markdown",
      "source": [
        "# Single Frame"
      ],
      "metadata": {
        "id": "jMwDhd6VvcNs"
      }
    },
    {
      "cell_type": "code",
      "source": [
        "df = calculate_metrics_from_files('/content/drive/MyDrive/Summer 2023 - fish ML/Paper - Fish Species Classification/Single Frame/model_evaluation_20250206_182817/SVM_evaluation.json',\n",
        "                                  '/content/drive/MyDrive/Summer 2023 - fish ML/Paper - Fish Species Classification/Single Frame/model_evaluation_20250206_182817/LogisticRegression_evaluation.json')\n",
        "print(df.to_string(index=False))"
      ],
      "metadata": {
        "id": "utfAI22ivh5_",
        "outputId": "6c2af4d9-a3eb-470d-e667-089476640d40",
        "colab": {
          "base_uri": "https://localhost:8080/"
        }
      },
      "execution_count": null,
      "outputs": [
        {
          "output_type": "stream",
          "name": "stdout",
          "text": [
            "     Metric     SVM Train      SVM Test      LR Train       LR Test\n",
            "weighted_f1 0.986 ± 0.002 0.963 ± 0.005 0.983 ± 0.005 0.960 ± 0.004\n",
            "   macro_f1 0.985 ± 0.003 0.952 ± 0.008 0.981 ± 0.007 0.949 ± 0.007\n",
            "   accuracy 0.986 ± 0.002 0.964 ± 0.005 0.983 ± 0.005 0.960 ± 0.004\n",
            " Bleikja_f1 0.981 ± 0.005 0.922 ± 0.016 0.974 ± 0.012 0.922 ± 0.016\n",
            "     Lax_f1 0.984 ± 0.003 0.959 ± 0.007 0.980 ± 0.006 0.954 ± 0.006\n",
            "  Urriði_f1 0.989 ± 0.002 0.975 ± 0.003 0.987 ± 0.003 0.973 ± 0.002\n"
          ]
        }
      ]
    },
    {
      "cell_type": "markdown",
      "source": [
        "#Baseline"
      ],
      "metadata": {
        "id": "ztiBPISwHey0"
      }
    },
    {
      "cell_type": "markdown",
      "source": [
        "\n",
        "\n",
        "\n",
        "\n",
        "## ResNet-50 Feature Extractor"
      ],
      "metadata": {
        "id": "piCdXOLiHgwd"
      }
    },
    {
      "cell_type": "code",
      "source": [
        "df = calculate_metrics_from_files('/content/drive/MyDrive/Summer 2023 - fish ML/Paper - Fish Species Classification/ResNet_Benchmark/model_evaluation_20250206_190517/SVM_evaluation.json',\n",
        "                                  '/content/drive/MyDrive/Summer 2023 - fish ML/Paper - Fish Species Classification/ResNet_Benchmark/model_evaluation_20250206_190517/LogisticRegression_evaluation.json')\n",
        "print(df.to_string(index=False))"
      ],
      "metadata": {
        "colab": {
          "base_uri": "https://localhost:8080/"
        },
        "id": "_7LGDdOKHulw",
        "outputId": "0eb9ae21-931d-475d-fa68-b12e67712cb5"
      },
      "execution_count": null,
      "outputs": [
        {
          "output_type": "stream",
          "name": "stdout",
          "text": [
            "     Metric     SVM Train      SVM Test      LR Train       LR Test\n",
            "weighted_f1 0.985 ± 0.007 0.935 ± 0.009 0.970 ± 0.008 0.925 ± 0.009\n",
            "   macro_f1 0.982 ± 0.009 0.912 ± 0.011 0.964 ± 0.011 0.900 ± 0.011\n",
            "   accuracy 0.985 ± 0.007 0.934 ± 0.009 0.970 ± 0.009 0.924 ± 0.009\n",
            " Bleikja_f1 0.973 ± 0.014 0.849 ± 0.017 0.944 ± 0.017 0.831 ± 0.018\n",
            "     Lax_f1 0.984 ± 0.008 0.928 ± 0.012 0.971 ± 0.009 0.919 ± 0.016\n",
            "  Urriði_f1 0.988 ± 0.006 0.958 ± 0.008 0.976 ± 0.006 0.950 ± 0.006\n"
          ]
        }
      ]
    },
    {
      "cell_type": "code",
      "source": [
        "!unzip /content/model_evaluation_20241211_154751.zip"
      ],
      "metadata": {
        "id": "J6670oS4LVzw",
        "outputId": "7afb4334-946a-4425-e8a4-1f2d5e382553",
        "colab": {
          "base_uri": "https://localhost:8080/"
        }
      },
      "execution_count": null,
      "outputs": [
        {
          "output_type": "stream",
          "name": "stdout",
          "text": [
            "Archive:  /content/model_evaluation_20241211_154751.zip\n",
            "   creating: model_evaluation_20241211_154751/\n",
            "  inflating: model_evaluation_20241211_154751/learning_curves_data.json  \n",
            "  inflating: model_evaluation_20241211_154751/SVM_evaluation.json  \n",
            "  inflating: model_evaluation_20241211_154751/LogisticRegression_evaluation.json  \n",
            "  inflating: model_evaluation_20241211_154751/evaluation.log  \n",
            "  inflating: model_evaluation_20241211_154751/learning_curves_mean_ensemble.png  \n",
            "  inflating: model_evaluation_20241211_154751/averaged_confusion_matrices.png  \n"
          ]
        }
      ]
    }
  ]
}